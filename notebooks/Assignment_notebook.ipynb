{
 "cells": [
  {
   "cell_type": "code",
   "execution_count": null,
   "id": "0738843b-5e41-445e-9e4e-89a45af9e007",
   "metadata": {},
   "outputs": [],
   "source": []
  },
  {
   "cell_type": "markdown",
   "id": "64b17177-cdd2-4c0f-a485-1511946242de",
   "metadata": {},
   "source": [
    "# Assignment notebook"
   ]
  },
  {
   "cell_type": "markdown",
   "id": "83a3c2a0-4ed7-43a2-a73b-127c9d664234",
   "metadata": {},
   "source": [
    "### Load modules"
   ]
  },
  {
   "cell_type": "code",
   "execution_count": 5,
   "id": "2a6e3858-ad90-4970-8d0e-23bfc3c1ccf5",
   "metadata": {
    "execution": {
     "iopub.execute_input": "2022-04-30T15:37:37.445041Z",
     "iopub.status.busy": "2022-04-30T15:37:37.444524Z",
     "iopub.status.idle": "2022-04-30T15:37:37.456616Z",
     "shell.execute_reply": "2022-04-30T15:37:37.455866Z",
     "shell.execute_reply.started": "2022-04-30T15:37:37.444994Z"
    },
    "tags": []
   },
   "outputs": [],
   "source": [
    "# os\n",
    "import os\n",
    "\n",
    "# tf tools\n",
    "import tensorflow as tf\n",
    "\n",
    "# image processsing\n",
    "from tensorflow.keras.preprocessing.image import (load_img,\n",
    "                                                  img_to_array,\n",
    "                                                  ImageDataGenerator)\n",
    "# VGG16 model\n",
    "from tensorflow.keras.applications.vgg16 import (preprocess_input,\n",
    "                                                 decode_predictions,\n",
    "                                                 VGG16)\n",
    "# cifar10 data - 32x32\n",
    "from tensorflow.keras.datasets import cifar10\n",
    "\n",
    "# layers\n",
    "from tensorflow.keras.layers import (Flatten, \n",
    "                                     Dense, \n",
    "                                     Dropout, \n",
    "                                     BatchNormalization)\n",
    "# generic model object\n",
    "from tensorflow.keras.models import Model\n",
    "\n",
    "# optimizers\n",
    "from tensorflow.keras.optimizers.schedules import ExponentialDecay\n",
    "from tensorflow.keras.optimizers import SGD\n",
    "\n",
    "#scikit-learn\n",
    "from sklearn.preprocessing import LabelBinarizer\n",
    "from sklearn.metrics import classification_report\n",
    "\n",
    "# for plotting\n",
    "import numpy as np\n",
    "import matplotlib.pyplot as plt"
   ]
  },
  {
   "cell_type": "markdown",
   "id": "0acf0c1a-44b7-49ca-bcab-842e342943ad",
   "metadata": {},
   "source": [
    "### Load Data "
   ]
  },
  {
   "cell_type": "code",
   "execution_count": 18,
   "id": "e3c51033-a409-486e-b2ec-d2331c866263",
   "metadata": {
    "execution": {
     "iopub.execute_input": "2022-04-30T15:41:53.868188Z",
     "iopub.status.busy": "2022-04-30T15:41:53.867678Z",
     "iopub.status.idle": "2022-04-30T15:41:53.878935Z",
     "shell.execute_reply": "2022-04-30T15:41:53.878150Z",
     "shell.execute_reply.started": "2022-04-30T15:41:53.868140Z"
    },
    "tags": []
   },
   "outputs": [],
   "source": [
    "# > Prepate data\n",
    "def prep_data():\n",
    "    # Print info\n",
    "    print(\"[INFO] loading data...\")\n",
    "    (X_train, y_train), (X_test, y_test) = cifar10.load_data()\n",
    "    # Normalize data \n",
    "    X_train = X_train/255\n",
    "    X_test = X_test/255\n",
    "    # Create one-hot encodings (Still not sure what this does)\n",
    "    lb = LabelBinarizer()\n",
    "    y_train = lb.fit_transform(y_train)\n",
    "    y_test = lb.fit_transform(y_test)\n",
    "    # Initialize label names\n",
    "    label_names = [\"airplane\", \"automobile\", \"bird\", \"cat\", \"deer\", \"dog\", \"frog\", \"horse\", \"ship\", \"truck\"]\n",
    "    # Print info\n",
    "    print(\"[INFO] Data loaded\")\n",
    "    \n",
    "    return (X_train, y_train), (X_test, y_test), label_names"
   ]
  },
  {
   "cell_type": "code",
   "execution_count": 7,
   "id": "ad53782d-08d4-4c17-9d93-524468a2309a",
   "metadata": {
    "execution": {
     "iopub.execute_input": "2022-04-30T15:37:47.748273Z",
     "iopub.status.busy": "2022-04-30T15:37:47.747786Z",
     "iopub.status.idle": "2022-04-30T15:37:48.823201Z",
     "shell.execute_reply": "2022-04-30T15:37:48.822526Z",
     "shell.execute_reply.started": "2022-04-30T15:37:47.748227Z"
    },
    "tags": []
   },
   "outputs": [],
   "source": [
    "(X_train, y_train), (X_test, y_test), label_names = prep_data()"
   ]
  },
  {
   "cell_type": "code",
   "execution_count": 8,
   "id": "e47e1cd6-f745-47c2-bf51-9fb166e0681a",
   "metadata": {
    "execution": {
     "iopub.execute_input": "2022-04-30T15:37:50.046145Z",
     "iopub.status.busy": "2022-04-30T15:37:50.045652Z",
     "iopub.status.idle": "2022-04-30T15:37:50.054787Z",
     "shell.execute_reply": "2022-04-30T15:37:50.054011Z",
     "shell.execute_reply.started": "2022-04-30T15:37:50.046096Z"
    },
    "tags": []
   },
   "outputs": [
    {
     "data": {
      "text/plain": [
       "numpy.ndarray"
      ]
     },
     "execution_count": 8,
     "metadata": {},
     "output_type": "execute_result"
    }
   ],
   "source": [
    "type(X_train)"
   ]
  },
  {
   "cell_type": "markdown",
   "id": "f251fec5-2935-4c60-a70a-96c61c19b65b",
   "metadata": {},
   "source": [
    "### Feature extraction"
   ]
  },
  {
   "cell_type": "code",
   "execution_count": 16,
   "id": "b6558ccc-38d5-43d0-85bd-d79f578af431",
   "metadata": {
    "execution": {
     "iopub.execute_input": "2022-04-30T15:38:42.332467Z",
     "iopub.status.busy": "2022-04-30T15:38:42.331928Z",
     "iopub.status.idle": "2022-04-30T15:38:42.342426Z",
     "shell.execute_reply": "2022-04-30T15:38:42.341468Z",
     "shell.execute_reply.started": "2022-04-30T15:38:42.332418Z"
    },
    "tags": []
   },
   "outputs": [],
   "source": [
    "# To keep me from adding to the model when I do not want to \n",
    "tf.keras.backend.clear_session() # Not sure if this smar to have in the final product?"
   ]
  },
  {
   "cell_type": "code",
   "execution_count": 11,
   "id": "144bc73e-7be1-467a-a896-ddd51c8e6c06",
   "metadata": {
    "execution": {
     "iopub.execute_input": "2022-04-30T15:38:14.364948Z",
     "iopub.status.busy": "2022-04-30T15:38:14.364427Z",
     "iopub.status.idle": "2022-04-30T15:38:14.643684Z",
     "shell.execute_reply": "2022-04-30T15:38:14.642755Z",
     "shell.execute_reply.started": "2022-04-30T15:38:14.364899Z"
    },
    "tags": []
   },
   "outputs": [],
   "source": [
    "# Initialize model \n",
    "model = VGG16(include_top = False, # Do not include classifier!\n",
    "              pooling = \"avg\", # Pooling the final layer  \n",
    "              input_shape = (32, 32, 3)) # Defineing input shape"
   ]
  },
  {
   "cell_type": "code",
   "execution_count": 12,
   "id": "6ce11d21-dc74-4e29-8001-680a1f59609b",
   "metadata": {
    "execution": {
     "iopub.execute_input": "2022-04-30T15:38:16.470340Z",
     "iopub.status.busy": "2022-04-30T15:38:16.469846Z",
     "iopub.status.idle": "2022-04-30T15:38:16.478118Z",
     "shell.execute_reply": "2022-04-30T15:38:16.477092Z",
     "shell.execute_reply.started": "2022-04-30T15:38:16.470290Z"
    },
    "tags": []
   },
   "outputs": [],
   "source": [
    "# Disable training on convolutional layers\n",
    "for layer in model.layers:\n",
    "    layer.trainable = False"
   ]
  },
  {
   "cell_type": "code",
   "execution_count": 17,
   "id": "19fb1ce0-82d4-4501-80c1-711211ac472c",
   "metadata": {
    "execution": {
     "iopub.execute_input": "2022-04-30T15:38:44.964386Z",
     "iopub.status.busy": "2022-04-30T15:38:44.963855Z",
     "iopub.status.idle": "2022-04-30T15:38:45.007096Z",
     "shell.execute_reply": "2022-04-30T15:38:45.006548Z",
     "shell.execute_reply.started": "2022-04-30T15:38:44.964336Z"
    },
    "tags": []
   },
   "outputs": [
    {
     "name": "stdout",
     "output_type": "stream",
     "text": [
      "Model: \"model\"\n",
      "_________________________________________________________________\n",
      " Layer (type)                Output Shape              Param #   \n",
      "=================================================================\n",
      " input_2 (InputLayer)        [(None, 32, 32, 3)]       0         \n",
      "                                                                 \n",
      " block1_conv1 (Conv2D)       (None, 32, 32, 64)        1792      \n",
      "                                                                 \n",
      " block1_conv2 (Conv2D)       (None, 32, 32, 64)        36928     \n",
      "                                                                 \n",
      " block1_pool (MaxPooling2D)  (None, 16, 16, 64)        0         \n",
      "                                                                 \n",
      " block2_conv1 (Conv2D)       (None, 16, 16, 128)       73856     \n",
      "                                                                 \n",
      " block2_conv2 (Conv2D)       (None, 16, 16, 128)       147584    \n",
      "                                                                 \n",
      " block2_pool (MaxPooling2D)  (None, 8, 8, 128)         0         \n",
      "                                                                 \n",
      " block3_conv1 (Conv2D)       (None, 8, 8, 256)         295168    \n",
      "                                                                 \n",
      " block3_conv2 (Conv2D)       (None, 8, 8, 256)         590080    \n",
      "                                                                 \n",
      " block3_conv3 (Conv2D)       (None, 8, 8, 256)         590080    \n",
      "                                                                 \n",
      " block3_pool (MaxPooling2D)  (None, 4, 4, 256)         0         \n",
      "                                                                 \n",
      " block4_conv1 (Conv2D)       (None, 4, 4, 512)         1180160   \n",
      "                                                                 \n",
      " block4_conv2 (Conv2D)       (None, 4, 4, 512)         2359808   \n",
      "                                                                 \n",
      " block4_conv3 (Conv2D)       (None, 4, 4, 512)         2359808   \n",
      "                                                                 \n",
      " block4_pool (MaxPooling2D)  (None, 2, 2, 512)         0         \n",
      "                                                                 \n",
      " block5_conv1 (Conv2D)       (None, 2, 2, 512)         2359808   \n",
      "                                                                 \n",
      " block5_conv2 (Conv2D)       (None, 2, 2, 512)         2359808   \n",
      "                                                                 \n",
      " block5_conv3 (Conv2D)       (None, 2, 2, 512)         2359808   \n",
      "                                                                 \n",
      " block5_pool (MaxPooling2D)  (None, 1, 1, 512)         0         \n",
      "                                                                 \n",
      " global_average_pooling2d_1   (None, 512)              0         \n",
      " (GlobalAveragePooling2D)                                        \n",
      "                                                                 \n",
      " flatten (Flatten)           (None, 512)               0         \n",
      "                                                                 \n",
      " dense (Dense)               (None, 128)               65664     \n",
      "                                                                 \n",
      " dense_1 (Dense)             (None, 10)                1290      \n",
      "                                                                 \n",
      "=================================================================\n",
      "Total params: 14,781,642\n",
      "Trainable params: 66,954\n",
      "Non-trainable params: 14,714,688\n",
      "_________________________________________________________________\n"
     ]
    }
   ],
   "source": [
    "model.summary()"
   ]
  },
  {
   "cell_type": "markdown",
   "id": "e5104773-dba6-4078-86a0-cb4e0a4beba7",
   "metadata": {},
   "source": [
    "__Add classification layers__"
   ]
  },
  {
   "cell_type": "code",
   "execution_count": 14,
   "id": "6da68a5b-4a7f-421c-9054-a8b5362ad641",
   "metadata": {
    "execution": {
     "iopub.execute_input": "2022-04-30T15:38:29.166137Z",
     "iopub.status.busy": "2022-04-30T15:38:29.165623Z",
     "iopub.status.idle": "2022-04-30T15:38:29.201790Z",
     "shell.execute_reply": "2022-04-30T15:38:29.200912Z",
     "shell.execute_reply.started": "2022-04-30T15:38:29.166088Z"
    },
    "tags": []
   },
   "outputs": [],
   "source": [
    "# Add layers \n",
    "# The second pair of closed brackets is the input \n",
    "flat1 = Flatten()(model.layers[-1].output) # create a flatten layer from the output for the last layer of the model\n",
    "class1 = Dense(128, activation='relu')(flat1)\n",
    "output = Dense(10, activation='softmax')(class1)\n",
    "\n",
    "# Adding everything together\n",
    "model = Model(inputs = model.inputs, \n",
    "              outputs = output)"
   ]
  },
  {
   "cell_type": "code",
   "execution_count": 15,
   "id": "0b235bf1-ac16-4613-8bf0-a81ec26e6fab",
   "metadata": {
    "execution": {
     "iopub.execute_input": "2022-04-30T15:38:31.380410Z",
     "iopub.status.busy": "2022-04-30T15:38:31.379887Z",
     "iopub.status.idle": "2022-04-30T15:38:31.422810Z",
     "shell.execute_reply": "2022-04-30T15:38:31.422170Z",
     "shell.execute_reply.started": "2022-04-30T15:38:31.380361Z"
    },
    "tags": []
   },
   "outputs": [
    {
     "name": "stdout",
     "output_type": "stream",
     "text": [
      "Model: \"model\"\n",
      "_________________________________________________________________\n",
      " Layer (type)                Output Shape              Param #   \n",
      "=================================================================\n",
      " input_2 (InputLayer)        [(None, 32, 32, 3)]       0         \n",
      "                                                                 \n",
      " block1_conv1 (Conv2D)       (None, 32, 32, 64)        1792      \n",
      "                                                                 \n",
      " block1_conv2 (Conv2D)       (None, 32, 32, 64)        36928     \n",
      "                                                                 \n",
      " block1_pool (MaxPooling2D)  (None, 16, 16, 64)        0         \n",
      "                                                                 \n",
      " block2_conv1 (Conv2D)       (None, 16, 16, 128)       73856     \n",
      "                                                                 \n",
      " block2_conv2 (Conv2D)       (None, 16, 16, 128)       147584    \n",
      "                                                                 \n",
      " block2_pool (MaxPooling2D)  (None, 8, 8, 128)         0         \n",
      "                                                                 \n",
      " block3_conv1 (Conv2D)       (None, 8, 8, 256)         295168    \n",
      "                                                                 \n",
      " block3_conv2 (Conv2D)       (None, 8, 8, 256)         590080    \n",
      "                                                                 \n",
      " block3_conv3 (Conv2D)       (None, 8, 8, 256)         590080    \n",
      "                                                                 \n",
      " block3_pool (MaxPooling2D)  (None, 4, 4, 256)         0         \n",
      "                                                                 \n",
      " block4_conv1 (Conv2D)       (None, 4, 4, 512)         1180160   \n",
      "                                                                 \n",
      " block4_conv2 (Conv2D)       (None, 4, 4, 512)         2359808   \n",
      "                                                                 \n",
      " block4_conv3 (Conv2D)       (None, 4, 4, 512)         2359808   \n",
      "                                                                 \n",
      " block4_pool (MaxPooling2D)  (None, 2, 2, 512)         0         \n",
      "                                                                 \n",
      " block5_conv1 (Conv2D)       (None, 2, 2, 512)         2359808   \n",
      "                                                                 \n",
      " block5_conv2 (Conv2D)       (None, 2, 2, 512)         2359808   \n",
      "                                                                 \n",
      " block5_conv3 (Conv2D)       (None, 2, 2, 512)         2359808   \n",
      "                                                                 \n",
      " block5_pool (MaxPooling2D)  (None, 1, 1, 512)         0         \n",
      "                                                                 \n",
      " global_average_pooling2d_1   (None, 512)              0         \n",
      " (GlobalAveragePooling2D)                                        \n",
      "                                                                 \n",
      " flatten (Flatten)           (None, 512)               0         \n",
      "                                                                 \n",
      " dense (Dense)               (None, 128)               65664     \n",
      "                                                                 \n",
      " dense_1 (Dense)             (None, 10)                1290      \n",
      "                                                                 \n",
      "=================================================================\n",
      "Total params: 14,781,642\n",
      "Trainable params: 66,954\n",
      "Non-trainable params: 14,714,688\n",
      "_________________________________________________________________\n"
     ]
    }
   ],
   "source": [
    "model.summary()"
   ]
  },
  {
   "cell_type": "markdown",
   "id": "4e550f8e-541a-44c6-bd24-0a27509e1888",
   "metadata": {},
   "source": [
    "__Compiling__"
   ]
  },
  {
   "cell_type": "code",
   "execution_count": 19,
   "id": "4da7e584-700b-45a3-8991-cb9bed7343d8",
   "metadata": {
    "execution": {
     "iopub.execute_input": "2022-04-30T15:28:03.443390Z",
     "iopub.status.busy": "2022-04-30T15:28:03.442867Z",
     "iopub.status.idle": "2022-04-30T15:28:03.451760Z",
     "shell.execute_reply": "2022-04-30T15:28:03.450775Z",
     "shell.execute_reply.started": "2022-04-30T15:28:03.443339Z"
    }
   },
   "outputs": [],
   "source": [
    "# Slowing down the model's learning to avoid overfitting\n",
    "lr_schedule = tf.keras.optimizers.schedules.ExponentialDecay(\n",
    "    initial_learning_rate=0.01,\n",
    "    decay_steps=1000,\n",
    "    decay_rate=0.9)\n",
    "\n",
    "sgd = SGD(learning_rate=lr_schedule)"
   ]
  },
  {
   "cell_type": "code",
   "execution_count": 20,
   "id": "bf5fec54-fc38-45b2-9bdd-6047318f434b",
   "metadata": {
    "execution": {
     "iopub.execute_input": "2022-04-30T15:28:21.983286Z",
     "iopub.status.busy": "2022-04-30T15:28:21.982747Z",
     "iopub.status.idle": "2022-04-30T15:28:22.004445Z",
     "shell.execute_reply": "2022-04-30T15:28:22.003267Z",
     "shell.execute_reply.started": "2022-04-30T15:28:21.983233Z"
    }
   },
   "outputs": [],
   "source": [
    "model.compile(optimizer=sgd,\n",
    "             loss=\"categorical_crossentropy\", # binary_crossentropy for binary categories \n",
    "             metrics=[\"accuracy\"])"
   ]
  },
  {
   "cell_type": "markdown",
   "id": "b5323b83-1bbc-4736-85b0-d826f3743969",
   "metadata": {},
   "source": [
    "### Testing function"
   ]
  },
  {
   "cell_type": "code",
   "execution_count": 20,
   "id": "f1534a85-ddfe-4bf5-8e25-08028b2194ce",
   "metadata": {
    "execution": {
     "iopub.execute_input": "2022-04-30T15:49:23.430422Z",
     "iopub.status.busy": "2022-04-30T15:49:23.429929Z",
     "iopub.status.idle": "2022-04-30T15:49:23.442758Z",
     "shell.execute_reply": "2022-04-30T15:49:23.441912Z",
     "shell.execute_reply.started": "2022-04-30T15:49:23.430373Z"
    },
    "tags": []
   },
   "outputs": [],
   "source": [
    "def create_model():\n",
    "    # Print info \n",
    "    print(\"[INFO] Initializing model\")\n",
    "    \n",
    "    # > Initialize model \n",
    "    model = VGG16(include_top = False, # Do not include classifier!\n",
    "                  pooling = \"avg\", # Pooling the final layer  \n",
    "                  input_shape = (32, 32, 3)) # Defineing input shape\n",
    "    # Disable training on convolutional layers\n",
    "    for layer in model.layers:\n",
    "        layer.trainable = False\n",
    "        \n",
    "    # > Add layers \n",
    "    # The second pair of closed brackets is the input \n",
    "    flat1 = Flatten()(model.layers[-1].output) # create a flatten layer from the output for the last layer of the model\n",
    "    class1 = Dense(128, activation='relu')(flat1)\n",
    "    output = Dense(10, activation='softmax')(class1)\n",
    "    # Adding everything together\n",
    "    model = Model(inputs = model.inputs, \n",
    "                  outputs = output)\n",
    "    \n",
    "    # Print info\n",
    "    print(\"[INFO] Compiling model\")\n",
    "    # Slowing down the model's learning to avoid overfitting\n",
    "    lr_schedule = tf.keras.optimizers.schedules.ExponentialDecay(\n",
    "        initial_learning_rate=0.01,\n",
    "        decay_steps=1000,\n",
    "        decay_rate=0.9)\n",
    "\n",
    "    sgd = SGD(learning_rate=lr_schedule)\n",
    "    # Compiling model\n",
    "    model.compile(optimizer=sgd,\n",
    "             loss=\"categorical_crossentropy\", # binary_crossentropy for binary categories \n",
    "             metrics=[\"accuracy\"])\n",
    "    # Print info\n",
    "    print(\"[INFO] Model compiled!\")\n",
    "    print(\"[INFO] Model summary:\")\n",
    "    model.summary()\n",
    "    \n",
    "    return model\n",
    "    "
   ]
  },
  {
   "cell_type": "code",
   "execution_count": 21,
   "id": "ac5622ae-6521-4e06-8137-8c2628996656",
   "metadata": {
    "execution": {
     "iopub.execute_input": "2022-04-30T15:49:35.658117Z",
     "iopub.status.busy": "2022-04-30T15:49:35.657603Z",
     "iopub.status.idle": "2022-04-30T15:49:36.021606Z",
     "shell.execute_reply": "2022-04-30T15:49:36.020645Z",
     "shell.execute_reply.started": "2022-04-30T15:49:35.658069Z"
    }
   },
   "outputs": [
    {
     "name": "stdout",
     "output_type": "stream",
     "text": [
      "[INFO] Initializing model\n",
      "[INFO] Compiling model\n",
      "[INFO] Model compiled!\n",
      "[INFO] Model summary:\n",
      "Model: \"model\"\n",
      "_________________________________________________________________\n",
      " Layer (type)                Output Shape              Param #   \n",
      "=================================================================\n",
      " input_1 (InputLayer)        [(None, 32, 32, 3)]       0         \n",
      "                                                                 \n",
      " block1_conv1 (Conv2D)       (None, 32, 32, 64)        1792      \n",
      "                                                                 \n",
      " block1_conv2 (Conv2D)       (None, 32, 32, 64)        36928     \n",
      "                                                                 \n",
      " block1_pool (MaxPooling2D)  (None, 16, 16, 64)        0         \n",
      "                                                                 \n",
      " block2_conv1 (Conv2D)       (None, 16, 16, 128)       73856     \n",
      "                                                                 \n",
      " block2_conv2 (Conv2D)       (None, 16, 16, 128)       147584    \n",
      "                                                                 \n",
      " block2_pool (MaxPooling2D)  (None, 8, 8, 128)         0         \n",
      "                                                                 \n",
      " block3_conv1 (Conv2D)       (None, 8, 8, 256)         295168    \n",
      "                                                                 \n",
      " block3_conv2 (Conv2D)       (None, 8, 8, 256)         590080    \n",
      "                                                                 \n",
      " block3_conv3 (Conv2D)       (None, 8, 8, 256)         590080    \n",
      "                                                                 \n",
      " block3_pool (MaxPooling2D)  (None, 4, 4, 256)         0         \n",
      "                                                                 \n",
      " block4_conv1 (Conv2D)       (None, 4, 4, 512)         1180160   \n",
      "                                                                 \n",
      " block4_conv2 (Conv2D)       (None, 4, 4, 512)         2359808   \n",
      "                                                                 \n",
      " block4_conv3 (Conv2D)       (None, 4, 4, 512)         2359808   \n",
      "                                                                 \n",
      " block4_pool (MaxPooling2D)  (None, 2, 2, 512)         0         \n",
      "                                                                 \n",
      " block5_conv1 (Conv2D)       (None, 2, 2, 512)         2359808   \n",
      "                                                                 \n",
      " block5_conv2 (Conv2D)       (None, 2, 2, 512)         2359808   \n",
      "                                                                 \n",
      " block5_conv3 (Conv2D)       (None, 2, 2, 512)         2359808   \n",
      "                                                                 \n",
      " block5_pool (MaxPooling2D)  (None, 1, 1, 512)         0         \n",
      "                                                                 \n",
      " global_average_pooling2d (G  (None, 512)              0         \n",
      " lobalAveragePooling2D)                                          \n",
      "                                                                 \n",
      " flatten (Flatten)           (None, 512)               0         \n",
      "                                                                 \n",
      " dense (Dense)               (None, 128)               65664     \n",
      "                                                                 \n",
      " dense_1 (Dense)             (None, 10)                1290      \n",
      "                                                                 \n",
      "=================================================================\n",
      "Total params: 14,781,642\n",
      "Trainable params: 66,954\n",
      "Non-trainable params: 14,714,688\n",
      "_________________________________________________________________\n"
     ]
    }
   ],
   "source": [
    "model = create_model()"
   ]
  },
  {
   "cell_type": "markdown",
   "id": "fcd10c96-59ae-4a03-9d50-d411c61f12c0",
   "metadata": {},
   "source": [
    "__Train__"
   ]
  },
  {
   "cell_type": "code",
   "execution_count": 22,
   "id": "3bd4aa97-5ed7-4b76-8747-25cb5517ed55",
   "metadata": {
    "execution": {
     "iopub.execute_input": "2022-04-30T15:51:37.732325Z",
     "iopub.status.busy": "2022-04-30T15:51:37.731791Z",
     "iopub.status.idle": "2022-04-30T15:59:29.636612Z",
     "shell.execute_reply": "2022-04-30T15:59:29.635932Z",
     "shell.execute_reply.started": "2022-04-30T15:51:37.732275Z"
    },
    "tags": []
   },
   "outputs": [
    {
     "name": "stdout",
     "output_type": "stream",
     "text": [
      "Epoch 1/10\n",
      "391/391 [==============================] - 48s 123ms/step - loss: 2.0342 - accuracy: 0.2989 - val_loss: 1.8419 - val_accuracy: 0.3836\n",
      "Epoch 2/10\n",
      "391/391 [==============================] - 47s 120ms/step - loss: 1.7286 - accuracy: 0.4213 - val_loss: 1.6633 - val_accuracy: 0.4304\n",
      "Epoch 3/10\n",
      "391/391 [==============================] - 47s 120ms/step - loss: 1.5973 - accuracy: 0.4568 - val_loss: 1.5698 - val_accuracy: 0.4581\n",
      "Epoch 4/10\n",
      "391/391 [==============================] - 47s 120ms/step - loss: 1.5244 - accuracy: 0.4784 - val_loss: 1.5142 - val_accuracy: 0.4778\n",
      "Epoch 5/10\n",
      "391/391 [==============================] - 47s 120ms/step - loss: 1.4780 - accuracy: 0.4921 - val_loss: 1.4817 - val_accuracy: 0.4894\n",
      "Epoch 6/10\n",
      "391/391 [==============================] - 47s 120ms/step - loss: 1.4445 - accuracy: 0.5030 - val_loss: 1.4520 - val_accuracy: 0.4980\n",
      "Epoch 7/10\n",
      "391/391 [==============================] - 47s 120ms/step - loss: 1.4193 - accuracy: 0.5106 - val_loss: 1.4305 - val_accuracy: 0.5026\n",
      "Epoch 8/10\n",
      "391/391 [==============================] - 47s 120ms/step - loss: 1.3995 - accuracy: 0.5169 - val_loss: 1.4117 - val_accuracy: 0.5083\n",
      "Epoch 9/10\n",
      "391/391 [==============================] - 47s 121ms/step - loss: 1.3824 - accuracy: 0.5239 - val_loss: 1.3993 - val_accuracy: 0.5143\n",
      "Epoch 10/10\n",
      "391/391 [==============================] - 47s 120ms/step - loss: 1.3685 - accuracy: 0.5285 - val_loss: 1.3860 - val_accuracy: 0.5165\n"
     ]
    }
   ],
   "source": [
    "H = model.fit(X_train, y_train,\n",
    "             validation_data = (X_test, y_test), # Was there a way to split up the validation data further?\n",
    "             batch_size = 128, # two to the power of something to optimize memory\n",
    "             epochs = 10, # Should I change this later? Perhaps make an argument that allows the user to specify so I don't have to think about it?\n",
    "             verbose = 1) # Tell me wht is happening "
   ]
  },
  {
   "cell_type": "markdown",
   "id": "bccd843f-a7cc-4593-8991-a5ed34d3bb8b",
   "metadata": {},
   "source": [
    "### Report results"
   ]
  },
  {
   "cell_type": "code",
   "execution_count": 36,
   "id": "192bcce5-4951-4bbd-8dfc-c790a664f850",
   "metadata": {
    "execution": {
     "iopub.execute_input": "2022-04-30T16:16:42.325939Z",
     "iopub.status.busy": "2022-04-30T16:16:42.325431Z",
     "iopub.status.idle": "2022-04-30T16:16:42.340621Z",
     "shell.execute_reply": "2022-04-30T16:16:42.339853Z",
     "shell.execute_reply.started": "2022-04-30T16:16:42.325891Z"
    },
    "tags": []
   },
   "outputs": [],
   "source": [
    "def plot_history(H, epochs):\n",
    "    plt.style.use(\"seaborn-colorblind\")\n",
    "\n",
    "    plt.figure(figsize=(12,6))\n",
    "    plt.subplot(1,2,1)\n",
    "    plt.plot(np.arange(0, epochs), H.history[\"loss\"], label=\"train_loss\")\n",
    "    plt.plot(np.arange(0, epochs), H.history[\"val_loss\"], label=\"val_loss\", linestyle=\":\")\n",
    "    plt.title(\"Loss curve\")\n",
    "    plt.xlabel(\"Epoch\")\n",
    "    plt.ylabel(\"Loss\")\n",
    "    plt.tight_layout()\n",
    "    plt.legend()\n",
    "\n",
    "    plt.subplot(1,2,2)\n",
    "    plt.plot(np.arange(0, epochs), H.history[\"accuracy\"], label=\"train_acc\")\n",
    "    plt.plot(np.arange(0, epochs), H.history[\"val_accuracy\"], label=\"val_acc\", linestyle=\":\")\n",
    "    plt.title(\"Accuracy curve\")\n",
    "    plt.xlabel(\"Epoch\")\n",
    "    plt.ylabel(\"Accuracy\")\n",
    "    plt.tight_layout()\n",
    "    plt.legend()\n",
    "    # Saving image\n",
    "    plt.savefig(os.path.join(\"..\", \"output\", \"history_img.png\"))\n",
    "    plt.show()"
   ]
  },
  {
   "cell_type": "code",
   "execution_count": 35,
   "id": "877e8312-7b0e-4ba7-9575-d9ba2428e908",
   "metadata": {
    "execution": {
     "iopub.execute_input": "2022-04-30T16:16:23.775997Z",
     "iopub.status.busy": "2022-04-30T16:16:23.775485Z",
     "iopub.status.idle": "2022-04-30T16:16:24.119279Z",
     "shell.execute_reply": "2022-04-30T16:16:24.118675Z",
     "shell.execute_reply.started": "2022-04-30T16:16:23.775950Z"
    },
    "tags": []
   },
   "outputs": [
    {
     "data": {
      "image/png": "[encoded data removed]",
      "text/plain": [
       "<Figure size 864x432 with 2 Axes>"
      ]
     },
     "metadata": {
      "needs_background": "light"
     },
     "output_type": "display_data"
    }
   ],
   "source": [
    "plot_history(H, 10)"
   ]
  },
  {
   "cell_type": "code",
   "execution_count": 25,
   "id": "cfbd7a1d-679f-4b1e-b59e-a3a2917cd0e8",
   "metadata": {
    "execution": {
     "iopub.execute_input": "2022-04-30T16:01:48.397919Z",
     "iopub.status.busy": "2022-04-30T16:01:48.397302Z",
     "iopub.status.idle": "2022-04-30T16:01:56.523461Z",
     "shell.execute_reply": "2022-04-30T16:01:56.522237Z",
     "shell.execute_reply.started": "2022-04-30T16:01:48.397866Z"
    }
   },
   "outputs": [
    {
     "name": "stdout",
     "output_type": "stream",
     "text": [
      "              precision    recall  f1-score   support\n",
      "\n",
      "    airplane       0.56      0.59      0.58      1000\n",
      "  automobile       0.56      0.56      0.56      1000\n",
      "        bird       0.43      0.35      0.39      1000\n",
      "         cat       0.38      0.36      0.37      1000\n",
      "        deer       0.48      0.54      0.51      1000\n",
      "         dog       0.52      0.43      0.47      1000\n",
      "        frog       0.53      0.63      0.57      1000\n",
      "       horse       0.58      0.53      0.55      1000\n",
      "        ship       0.59      0.65      0.62      1000\n",
      "       truck       0.50      0.53      0.52      1000\n",
      "\n",
      "    accuracy                           0.52     10000\n",
      "   macro avg       0.51      0.52      0.51     10000\n",
      "weighted avg       0.51      0.52      0.51     10000\n",
      "\n"
     ]
    }
   ],
   "source": [
    "predictions = model.predict(X_test, batch_size = 128)\n",
    "print(classification_report(y_test.argmax(axis=1), # argmax = find the prediction with the highest value\n",
    "                           predictions.argmax(axis=1),\n",
    "                           target_names=label_names))"
   ]
  },
  {
   "cell_type": "markdown",
   "id": "35f7a257-44cf-4f18-b019-c33c44f230a2",
   "metadata": {},
   "source": [
    "### Testing functions"
   ]
  },
  {
   "cell_type": "code",
   "execution_count": null,
   "id": "8133b102-8dfe-48dd-ab88-b9b2c94351eb",
   "metadata": {},
   "outputs": [],
   "source": []
  }
 ],
 "metadata": {
  "kernelspec": {
   "display_name": "Python 3 ",
   "language": "python",
   "name": "python3"
  },
  "language_info": {
   "codemirror_mode": {
    "name": "ipython",
    "version": 3
   },
   "file_extension": ".py",
   "mimetype": "text/x-python",
   "name": "python",
   "nbconvert_exporter": "python",
   "pygments_lexer": "ipython3",
   "version": "3.9.6"
  }
 },
 "nbformat": 4,
 "nbformat_minor": 5
}
